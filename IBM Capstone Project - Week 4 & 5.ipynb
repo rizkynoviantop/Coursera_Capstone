{
    "cells": [
        {
            "cell_type": "markdown",
            "metadata": {
                "collapsed": true
            },
            "source": "# Introduction & Business Problem"
        },
        {
            "cell_type": "markdown",
            "metadata": {},
            "source": "### Introduction\nAs a business and enterpreneurship enthusiast, i'd like to look for a business opportunities and gives my thought on:\nwhat the people are currently need? is it highly available on the market? if it isnt, what can i do to meet those demands? how should I do it?\n\n\n### Business Problem\nThe problem in answering above question, it would take quite sometime to gather information needed in a conventional way. That is why, we are going to need an efficient way to do it, which called data science.\n\nUsing data science, we could tackle the problems:\n1. Using data to determine which business opportunity that is/are available\n2. Spending money on investing required detailed and thorough analysis, which take quite some time to be done conventional way\n\n#### Who would be interested in this project?\n1. Investor looking for an opportunity to build a business\n2. People that was looking for a preferred neighborhood to live\n\n\nBy knowing what people needs, we can use it to our advantage, to make profit from it.\nTo start it all, first i need to know what are the frequently visited venue category in Toronto?\nBecause to my understanding, the more a venue category is available, the higher demands it has received from the market.\nnot only that, i also need information on who visited those venues? is the population of toronto can be grouped by ethnics?\nIs what these ethnics needs already widely available in Toronto?\n\n"
        },
        {
            "cell_type": "markdown",
            "metadata": {},
            "source": "# Data"
        },
        {
            "cell_type": "markdown",
            "metadata": {},
            "source": "Now that i have defined the question, what data do i need to have in order to answer said question?\n\na. Foursquare Location Data\n\nb. Ethnics demographic population in Toronto\n\nThese are the data I needed, where the informations i sought were stored.\nPopulation & Demographics data of Toronto from Wikipedia will be used to:\n1. Maps the majority of ethnics that lived in Toronto\n2. How many (headcount & percentage) people that belongs in that ethnics?\n3. Where the majority of ethnics are located (borough & neighborhood)?\n\nthe Foursquare Location Data will be used to:\n4. maps the available venue category available in Toronto\n5. which venue category are amongst the top frequently visited by people of Toronto\n\n\nhaving knowing the 1st, 2nd, and 5th data, we could determine what venue category that still has room to grow in Toronto for business opportunity, what business would potentilly thrive and where should we build it.\n\nMeanwhile from the 3rd and 4th data, we could predict which neighborhood that potentially be the second \"home\" for the majority ethnics? by clustering the neighborhood based on its similarity in venue categories."
        },
        {
            "cell_type": "code",
            "execution_count": null,
            "metadata": {},
            "outputs": [],
            "source": ""
        }
    ],
    "metadata": {
        "kernelspec": {
            "display_name": "Python 3.6",
            "language": "python",
            "name": "python3"
        },
        "language_info": {
            "codemirror_mode": {
                "name": "ipython",
                "version": 3
            },
            "file_extension": ".py",
            "mimetype": "text/x-python",
            "name": "python",
            "nbconvert_exporter": "python",
            "pygments_lexer": "ipython3",
            "version": "3.6.9"
        }
    },
    "nbformat": 4,
    "nbformat_minor": 1
}